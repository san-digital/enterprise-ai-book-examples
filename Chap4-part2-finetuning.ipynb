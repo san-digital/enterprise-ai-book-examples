{
 "cells": [
  {
   "cell_type": "code",
   "execution_count": 3,
   "id": "ac772ebc-b35b-48ad-9521-879ba3f7c237",
   "metadata": {},
   "outputs": [
    {
     "data": {
      "text/markdown": [
       "# Chapter 4 Part 2: Fine-Tuning\n",
       "\n",
       "This section walks you through generating an example fine tuned model for use in a \"Biscuit selector\" app.\n",
       "\n",
       "**Goal**: Teach the LLM model your biscuit preferences with a number of examples. And improve the model over time\n",
       "\n",
       "The training set has been generated with the following assumption\n",
       "- Tired = chocolate.\n",
       "- Bored = novelty, maybe jammy dodger or tunnock tea cake.\n",
       "- Sad = fancy biscuit.\n",
       "- Hungry = substantial high calorie, hobnob.\n",
       "\n",
       "The training set is found in \"chapter-4/resources/biscuit_selector.jsonl\". Some example seed data has been provided, but using the app your preferences can be\n",
       "updated over time.\n",
       "\n",
       "Once model is generated, run the biscuit selection app to test the fine tuned model.\n",
       "```sh\n",
       "cd ../chapter-4/biscuit-selector-app/\n",
       "yarn \n",
       "yarn dev\n",
       "```\n",
       "\n",
       "Within the app, recommendation preferences can be logged and used to update the model. So the model learns your preferences without them being explicitly defined.\n"
      ],
      "text/plain": [
       "<IPython.core.display.Markdown object>"
      ]
     },
     "metadata": {},
     "output_type": "display_data"
    }
   ],
   "source": [
    "from IPython.display import display, Markdown, Latex\n",
    "display(Markdown('''# Chapter 4 Part 2: Fine-Tuning\n",
    "\n",
    "This section walks you through generating an example fine tuned model for use in a \"Biscuit selector\" app.\n",
    "\n",
    "**Goal**: Teach the LLM model your biscuit preferences with a number of examples. And improve the model over time\n",
    "\n",
    "The training set has been generated with the following assumption\n",
    "- Tired = chocolate.\n",
    "- Bored = novelty, maybe jammy dodger or tunnock tea cake.\n",
    "- Sad = fancy biscuit.\n",
    "- Hungry = substantial high calorie, hobnob.\n",
    "\n",
    "The training set is found in \"chapter-4/resources/biscuit_selector.jsonl\". Some example seed data has been provided, but using the app your preferences can be\n",
    "updated over time.\n",
    "\n",
    "Once model is generated, run the biscuit selection app to test the fine tuned model.\n",
    "```sh\n",
    "cd ../chapter-4/biscuit-selector-app/\n",
    "yarn \n",
    "yarn dev\n",
    "```\n",
    "\n",
    "Within the app, recommendation preferences can be logged and used to update the model. So the model learns your preferences without them being explicitly defined.\n",
    "'''))"
   ]
  },
  {
   "cell_type": "code",
   "execution_count": 1,
   "id": "c6e75f47-ce3b-465d-8ebd-6d670835a791",
   "metadata": {},
   "outputs": [
    {
     "name": "stdout",
     "output_type": "stream",
     "text": [
      "Uploading training file...\n",
      "File uploaded: file-LtXHGRPmqzRGkxA7tzboCY\n",
      "Starting fine-tuning job...\n",
      "Fine-tune job started: ftjob-SWhshuDQxF74699LH7zowyCE\n",
      "Started job\n",
      "ftjob-SWhshuDQxF74699LH7zowyCE\n"
     ]
    }
   ],
   "source": [
    "import openai\n",
    "import time\n",
    "import os\n",
    "import json\n",
    "import csv\n",
    "from dotenv import load_dotenv\n",
    "\n",
    "load_dotenv()  # This loads variables from .env into os.environ\n",
    "api_key = os.getenv(\"OPENAI_API_KEY\")\n",
    "\n",
    "openai.api_key = os.getenv(\"OPENAI_API_KEY\")  # or: openai.api_key = \"sk-...\"\n",
    "\n",
    "def upload_training_file(file_path: str):\n",
    "    print(\"Uploading training file...\")\n",
    "    with open(file_path, \"rb\") as f:\n",
    "        response = openai.files.create(file=f, purpose=\"fine-tune\")\n",
    "    print(f\"File uploaded: {response.id}\")\n",
    "    return response.id\n",
    "\n",
    "def start_fine_tune(file_id: str, model=\"gpt-4.1-mini-2025-04-14\"):\n",
    "    print(\"Starting fine-tuning job...\")\n",
    "    response = openai.fine_tuning.jobs.create(training_file=file_id, model=model)\n",
    "    print(f\"Fine-tune job started: {response.id}\")\n",
    "    return response.id\n",
    "\n",
    "# === MAIN ===\n",
    "if __name__ == \"__main__\":     # ⬅ Intermediate file\n",
    "\n",
    "    file_id = upload_training_file(\"chapter-4/resources/biscuit_selector.jsonl\")\n",
    "    job_id = start_fine_tune(file_id)\n",
    "    print(\"Started job\")\n",
    "    print(job_id)\n",
    "\n"
   ]
  },
  {
   "cell_type": "code",
   "execution_count": null,
   "id": "8691d2c2-5db7-4aba-972a-8573c8a8117d",
   "metadata": {},
   "outputs": [
    {
     "name": "stdout",
     "output_type": "stream",
     "text": [
      "⏳ Waiting for fine-tuning job to complete...\n",
      "\n",
      "[1] Elapsed: 0:00:00 | Status: validating_files\n",
      "    - Model: gpt-4.1-mini-2025-04-14\n",
      "    - Training File: file-LtXHGRPmqzRGkxA7tzboCY\n",
      "    [event @ 2025-07-29 10:59:47] Created fine-tuning job: ftjob-SWhshuDQxF74699LH7zowyCE\n",
      "    [event @ 2025-07-29 10:59:47] Validating training file: file-LtXHGRPmqzRGkxA7tzboCY\n"
     ]
    }
   ],
   "source": [
    "import time\n",
    "import datetime\n",
    "import openai\n",
    "import os\n",
    "\n",
    "\n",
    "def save_model_name(model_name: str, output_path: str):\n",
    "    print(f\"Saving fine-tuned model name to {output_path}\")\n",
    "    os.makedirs(os.path.dirname(output_path), exist_ok=True)\n",
    "    with open(output_path, \"w\") as f:\n",
    "        json.dump({\"model\": model_name}, f)\n",
    "    print(\"Model name saved.\")\n",
    "\n",
    "\n",
    "def wait_for_completion(job_id: str, poll_interval=30):\n",
    "    print(\"⏳ Waiting for fine-tuning job to complete...\\n\")\n",
    "    start_time = time.time()\n",
    "    seen_event_ids = set()\n",
    "    step = 0\n",
    "\n",
    "    while True:\n",
    "        job = openai.fine_tuning.jobs.retrieve(job_id)\n",
    "        elapsed = str(datetime.timedelta(seconds=int(time.time() - start_time)))\n",
    "        step += 1\n",
    "\n",
    "        print(f\"[{step}] Elapsed: {elapsed} | Status: {job.status}\")\n",
    "        print(f\"    - Model: {job.model}\")\n",
    "        print(f\"    - Training File: {job.training_file}\")\n",
    "        if job.validation_file:\n",
    "            print(f\"    - Validation File: {job.validation_file}\")\n",
    "        if job.status == \"running\":\n",
    "            print(f\"    - Output fine-tuned model name: {job.fine_tuned_model or 'N/A'}\")\n",
    "\n",
    "        # ✅ Correct attribute access for event objects\n",
    "        try:\n",
    "            events = openai.fine_tuning.jobs.list_events(job_id, limit=50).data\n",
    "            new_events = [e for e in reversed(events) if e.id not in seen_event_ids]\n",
    "            for event in new_events:\n",
    "                seen_event_ids.add(event.id)\n",
    "                ts = datetime.datetime.fromtimestamp(event.created_at).strftime('%Y-%m-%d %H:%M:%S')\n",
    "                print(f\"    [event @ {ts}] {event.message}\")\n",
    "        except Exception as e:\n",
    "            print(f\"    ⚠️ Failed to retrieve events: {e}\")\n",
    "\n",
    "        if job.status in [\"succeeded\", \"failed\", \"cancelled\"]:\n",
    "            print(f\"\\n✅ Job {job.status.upper()}\")\n",
    "            return job\n",
    "\n",
    "        time.sleep(poll_interval)\n",
    "\n",
    "model_output_path = \"chapter-4/resources/model.json\"\n",
    "\n",
    "result = wait_for_completion(job_id)\n",
    "\n",
    "print(f\"Final status: {result.status}\")\n",
    "if result.status == \"succeeded\" and result.fine_tuned_model:\n",
    "    save_model_name(result.fine_tuned_model, model_output_path)\n",
    "else:\n",
    "    print(\"Fine-tuning failed or no model was produced.\")\n"
   ]
  },
  {
   "cell_type": "code",
   "execution_count": null,
   "id": "3d3cabb2-992b-444c-b461-5cf02788bdc8",
   "metadata": {},
   "outputs": [],
   "source": []
  },
  {
   "cell_type": "code",
   "execution_count": null,
   "id": "1fdf04ef-09e0-4649-b103-a0386310f71e",
   "metadata": {},
   "outputs": [],
   "source": []
  }
 ],
 "metadata": {
  "kernelspec": {
   "display_name": "Python 3 (ipykernel)",
   "language": "python",
   "name": "python3"
  },
  "language_info": {
   "codemirror_mode": {
    "name": "ipython",
    "version": 3
   },
   "file_extension": ".py",
   "mimetype": "text/x-python",
   "name": "python",
   "nbconvert_exporter": "python",
   "pygments_lexer": "ipython3",
   "version": "3.12.11"
  }
 },
 "nbformat": 4,
 "nbformat_minor": 5
}
